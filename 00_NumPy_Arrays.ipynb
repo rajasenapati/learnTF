{
  "nbformat": 4,
  "nbformat_minor": 0,
  "metadata": {
    "anaconda-cloud": {},
    "kernelspec": {
      "display_name": "Python 3",
      "language": "python",
      "name": "python3"
    },
    "language_info": {
      "codemirror_mode": {
        "name": "ipython",
        "version": 3
      },
      "file_extension": ".py",
      "mimetype": "text/x-python",
      "name": "python",
      "nbconvert_exporter": "python",
      "pygments_lexer": "ipython3",
      "version": "3.7.4"
    },
    "colab": {
      "name": "00-NumPy-Arrays.ipynb",
      "provenance": [],
      "include_colab_link": true
    }
  },
  "cells": [
    {
      "cell_type": "markdown",
      "metadata": {
        "id": "view-in-github",
        "colab_type": "text"
      },
      "source": [
        "<a href=\"https://colab.research.google.com/github/rajasenapati/learnTF/blob/main/00_NumPy_Arrays.ipynb\" target=\"_parent\"><img src=\"https://colab.research.google.com/assets/colab-badge.svg\" alt=\"Open In Colab\"/></a>"
      ]
    },
    {
      "cell_type": "markdown",
      "metadata": {
        "id": "Jac1-i2ID1Xw"
      },
      "source": [
        "___\n",
        "\n",
        "<a href='http://www.pieriandata.com'><img src='../Pierian_Data_Logo.png'/></a>\n",
        "___\n",
        "<center><em>Copyright Pierian Data</em></center>\n",
        "<center><em>For more information, visit us at <a href='http://www.pieriandata.com'>www.pieriandata.com</a></em></center>"
      ]
    },
    {
      "cell_type": "markdown",
      "metadata": {
        "id": "Tus3Gb1AD1X4"
      },
      "source": [
        "# NumPy \n",
        "\n",
        "NumPy is a powerful linear algebra library for Python. What makes it so important is that almost all of the libraries in the <a href='https://pydata.org/'>PyData</a> ecosystem (pandas, scipy, scikit-learn, etc.) rely on NumPy as one of their main building blocks. Plus we will use it to generate data for our analysis examples later on!\n",
        "\n",
        "NumPy is also incredibly fast, as it has bindings to C libraries. For more info on why you would want to use arrays instead of lists, check out this great [StackOverflow post](http://stackoverflow.com/questions/993984/why-numpy-instead-of-python-lists).\n",
        "\n",
        "We will only learn the basics of NumPy."
      ]
    },
    {
      "cell_type": "markdown",
      "metadata": {
        "id": "_XY-DqIID1X5"
      },
      "source": [
        "## Using NumPy\n",
        "\n",
        "Once you've installed NumPy you can import it as a library:"
      ]
    },
    {
      "cell_type": "code",
      "metadata": {
        "collapsed": true,
        "id": "tVN3ad4UD1X6"
      },
      "source": [
        "import numpy as np"
      ],
      "execution_count": 2,
      "outputs": []
    },
    {
      "cell_type": "markdown",
      "metadata": {
        "id": "Vy99xrJbD1X6"
      },
      "source": [
        "NumPy has many built-in functions and capabilities. We won't cover them all but instead we will focus on some of the most important aspects of NumPy: vectors, arrays, matrices and number generation. Let's start by discussing arrays.\n",
        "\n",
        "# NumPy Arrays\n",
        "\n",
        "NumPy arrays are the main way we will use NumPy throughout the course. NumPy arrays essentially come in two flavors: vectors and matrices. Vectors are strictly 1-dimensional (1D) arrays and matrices are 2D (but you should note a matrix can still have only one row or one column).\n",
        "\n",
        "Let's begin our introduction by exploring how to create NumPy arrays.\n",
        "\n",
        "## Creating NumPy Arrays\n",
        "\n",
        "### From a Python List\n",
        "\n",
        "We can create an array by directly converting a list or list of lists:"
      ]
    },
    {
      "cell_type": "code",
      "metadata": {
        "colab": {
          "base_uri": "https://localhost:8080/"
        },
        "id": "bsCg89TxD1X7",
        "outputId": "87f0f020-9415-4eb3-927e-899dc8bd23b1"
      },
      "source": [
        "my_list = [1,2,3]\n",
        "my_list"
      ],
      "execution_count": 3,
      "outputs": [
        {
          "output_type": "execute_result",
          "data": {
            "text/plain": [
              "[1, 2, 3]"
            ]
          },
          "metadata": {
            "tags": []
          },
          "execution_count": 3
        }
      ]
    },
    {
      "cell_type": "code",
      "metadata": {
        "colab": {
          "base_uri": "https://localhost:8080/"
        },
        "id": "H8zkXKsVD1X9",
        "outputId": "47335bbd-dcd2-485e-c7ba-3cca91c81ccd"
      },
      "source": [
        "np.array(my_list)"
      ],
      "execution_count": 4,
      "outputs": [
        {
          "output_type": "execute_result",
          "data": {
            "text/plain": [
              "array([1, 2, 3])"
            ]
          },
          "metadata": {
            "tags": []
          },
          "execution_count": 4
        }
      ]
    },
    {
      "cell_type": "code",
      "metadata": {
        "colab": {
          "base_uri": "https://localhost:8080/"
        },
        "id": "30z9uPYHD1X9",
        "outputId": "e672d97e-956e-4ff2-e475-ade4f8818dfd"
      },
      "source": [
        "my_matrix = [[1,2,3],[4,5,6],[7,8,9]]\n",
        "my_matrix"
      ],
      "execution_count": 5,
      "outputs": [
        {
          "output_type": "execute_result",
          "data": {
            "text/plain": [
              "[[1, 2, 3], [4, 5, 6], [7, 8, 9]]"
            ]
          },
          "metadata": {
            "tags": []
          },
          "execution_count": 5
        }
      ]
    },
    {
      "cell_type": "code",
      "metadata": {
        "colab": {
          "base_uri": "https://localhost:8080/"
        },
        "id": "_AdBO4PSD1X-",
        "outputId": "dd8ea512-d242-40b1-8522-0fa603635329"
      },
      "source": [
        "np.array(my_matrix)"
      ],
      "execution_count": 6,
      "outputs": [
        {
          "output_type": "execute_result",
          "data": {
            "text/plain": [
              "array([[1, 2, 3],\n",
              "       [4, 5, 6],\n",
              "       [7, 8, 9]])"
            ]
          },
          "metadata": {
            "tags": []
          },
          "execution_count": 6
        }
      ]
    },
    {
      "cell_type": "markdown",
      "metadata": {
        "id": "mGA-44QFD1X-"
      },
      "source": [
        "## Built-in Methods\n",
        "\n",
        "There are lots of built-in ways to generate arrays."
      ]
    },
    {
      "cell_type": "markdown",
      "metadata": {
        "id": "l81WLNC9D1X_"
      },
      "source": [
        "### arange\n",
        "\n",
        "Return evenly spaced values within a given interval. [[reference](https://docs.scipy.org/doc/numpy-1.15.0/reference/generated/numpy.arange.html)]"
      ]
    },
    {
      "cell_type": "code",
      "metadata": {
        "colab": {
          "base_uri": "https://localhost:8080/"
        },
        "id": "hqRRQny5D1X_",
        "outputId": "46fb0702-a304-4e92-97e4-457b2f48a6f6"
      },
      "source": [
        "np.arange(0,10)"
      ],
      "execution_count": 7,
      "outputs": [
        {
          "output_type": "execute_result",
          "data": {
            "text/plain": [
              "array([0, 1, 2, 3, 4, 5, 6, 7, 8, 9])"
            ]
          },
          "metadata": {
            "tags": []
          },
          "execution_count": 7
        }
      ]
    },
    {
      "cell_type": "code",
      "metadata": {
        "colab": {
          "base_uri": "https://localhost:8080/"
        },
        "id": "DvIAjZMrD1X_",
        "outputId": "59d96336-abd5-4bb0-b521-a84f294ce904"
      },
      "source": [
        "np.arange(0,11,2)"
      ],
      "execution_count": 8,
      "outputs": [
        {
          "output_type": "execute_result",
          "data": {
            "text/plain": [
              "array([ 0,  2,  4,  6,  8, 10])"
            ]
          },
          "metadata": {
            "tags": []
          },
          "execution_count": 8
        }
      ]
    },
    {
      "cell_type": "markdown",
      "metadata": {
        "id": "7uoL2jZmD1YA"
      },
      "source": [
        "### zeros and ones\n",
        "\n",
        "Generate arrays of zeros or ones. [[reference](https://docs.scipy.org/doc/numpy-1.15.0/reference/generated/numpy.zeros.html)]"
      ]
    },
    {
      "cell_type": "code",
      "metadata": {
        "id": "oglBjPu2D1YA",
        "outputId": "559a4942-4635-4b6f-de72-5d5b223a3295"
      },
      "source": [
        "np.zeros(3)"
      ],
      "execution_count": null,
      "outputs": [
        {
          "output_type": "execute_result",
          "data": {
            "text/plain": [
              "array([0., 0., 0.])"
            ]
          },
          "metadata": {
            "tags": []
          },
          "execution_count": 8
        }
      ]
    },
    {
      "cell_type": "code",
      "metadata": {
        "id": "2a43zLuID1YB",
        "outputId": "c3406fb3-1202-4bbe-c6a4-8bce9dde8d35"
      },
      "source": [
        "np.zeros((5,5))"
      ],
      "execution_count": null,
      "outputs": [
        {
          "output_type": "execute_result",
          "data": {
            "text/plain": [
              "array([[0., 0., 0., 0., 0.],\n",
              "       [0., 0., 0., 0., 0.],\n",
              "       [0., 0., 0., 0., 0.],\n",
              "       [0., 0., 0., 0., 0.],\n",
              "       [0., 0., 0., 0., 0.]])"
            ]
          },
          "metadata": {
            "tags": []
          },
          "execution_count": 9
        }
      ]
    },
    {
      "cell_type": "code",
      "metadata": {
        "id": "WgBx0ZAxD1YB",
        "outputId": "a17248dc-213f-43a7-ac4b-698fd1686f6e"
      },
      "source": [
        "np.ones(3)"
      ],
      "execution_count": null,
      "outputs": [
        {
          "output_type": "execute_result",
          "data": {
            "text/plain": [
              "array([1., 1., 1.])"
            ]
          },
          "metadata": {
            "tags": []
          },
          "execution_count": 10
        }
      ]
    },
    {
      "cell_type": "code",
      "metadata": {
        "id": "GpVXs_Q4D1YC",
        "outputId": "c96b355f-8bc2-481c-b5bc-84f8eac76395"
      },
      "source": [
        "np.ones((3,3))"
      ],
      "execution_count": null,
      "outputs": [
        {
          "output_type": "execute_result",
          "data": {
            "text/plain": [
              "array([[1., 1., 1.],\n",
              "       [1., 1., 1.],\n",
              "       [1., 1., 1.]])"
            ]
          },
          "metadata": {
            "tags": []
          },
          "execution_count": 11
        }
      ]
    },
    {
      "cell_type": "markdown",
      "metadata": {
        "id": "lWrx3Cz9D1YC"
      },
      "source": [
        "### linspace \n",
        "Return evenly spaced numbers over a specified interval. [[reference](https://www.numpy.org/devdocs/reference/generated/numpy.linspace.html)]"
      ]
    },
    {
      "cell_type": "code",
      "metadata": {
        "id": "KL7G64IzD1YC",
        "outputId": "710d55d8-7248-4589-cdb4-3068c903a188"
      },
      "source": [
        "np.linspace(0,10,3)"
      ],
      "execution_count": null,
      "outputs": [
        {
          "output_type": "execute_result",
          "data": {
            "text/plain": [
              "array([ 0.,  5., 10.])"
            ]
          },
          "metadata": {
            "tags": []
          },
          "execution_count": 12
        }
      ]
    },
    {
      "cell_type": "code",
      "metadata": {
        "id": "C7jrqthXD1YD",
        "outputId": "b2c888b3-6de3-43e8-ec03-551ff6610003"
      },
      "source": [
        "np.linspace(0,5,20)"
      ],
      "execution_count": null,
      "outputs": [
        {
          "output_type": "execute_result",
          "data": {
            "text/plain": [
              "array([0.        , 0.26315789, 0.52631579, 0.78947368, 1.05263158,\n",
              "       1.31578947, 1.57894737, 1.84210526, 2.10526316, 2.36842105,\n",
              "       2.63157895, 2.89473684, 3.15789474, 3.42105263, 3.68421053,\n",
              "       3.94736842, 4.21052632, 4.47368421, 4.73684211, 5.        ])"
            ]
          },
          "metadata": {
            "tags": []
          },
          "execution_count": 13
        }
      ]
    },
    {
      "cell_type": "markdown",
      "metadata": {
        "id": "BBDK29NLD1YD"
      },
      "source": [
        "<font color=green>Note that `.linspace()` *includes* the stop value. To obtain an array of common fractions, increase the number of items:</font>"
      ]
    },
    {
      "cell_type": "code",
      "metadata": {
        "id": "fWTJCvsMD1YD",
        "outputId": "14859fc3-ebf0-4107-910e-7000efa85acf"
      },
      "source": [
        "np.linspace(0,5,21)"
      ],
      "execution_count": null,
      "outputs": [
        {
          "output_type": "execute_result",
          "data": {
            "text/plain": [
              "array([0.  , 0.25, 0.5 , 0.75, 1.  , 1.25, 1.5 , 1.75, 2.  , 2.25, 2.5 ,\n",
              "       2.75, 3.  , 3.25, 3.5 , 3.75, 4.  , 4.25, 4.5 , 4.75, 5.  ])"
            ]
          },
          "metadata": {
            "tags": []
          },
          "execution_count": 14
        }
      ]
    },
    {
      "cell_type": "markdown",
      "metadata": {
        "id": "ZJcvvQ4CD1YD"
      },
      "source": [
        "### eye\n",
        "\n",
        "Creates an identity matrix [[reference](https://docs.scipy.org/doc/numpy-1.15.0/reference/generated/numpy.eye.html)]"
      ]
    },
    {
      "cell_type": "code",
      "metadata": {
        "id": "lNJB2gwrD1YE",
        "outputId": "51d1fb09-1f09-41ff-d7ff-7062daca7bc1"
      },
      "source": [
        "np.eye(4)"
      ],
      "execution_count": null,
      "outputs": [
        {
          "output_type": "execute_result",
          "data": {
            "text/plain": [
              "array([[1., 0., 0., 0.],\n",
              "       [0., 1., 0., 0.],\n",
              "       [0., 0., 1., 0.],\n",
              "       [0., 0., 0., 1.]])"
            ]
          },
          "metadata": {
            "tags": []
          },
          "execution_count": 15
        }
      ]
    },
    {
      "cell_type": "markdown",
      "metadata": {
        "id": "K0L2uXEYD1YE"
      },
      "source": [
        "## Random \n",
        "Numpy also has lots of ways to create random number arrays:\n",
        "\n",
        "### rand\n",
        "Creates an array of the given shape and populates it with random samples from a uniform distribution over ``[0, 1)``. [[reference](https://docs.scipy.org/doc/numpy-1.15.0/reference/generated/numpy.random.rand.html)]"
      ]
    },
    {
      "cell_type": "code",
      "metadata": {
        "id": "BR-c17fKD1YE",
        "outputId": "10886475-d3ed-442e-af0e-ac47fc8d7d92"
      },
      "source": [
        "np.random.rand(2)"
      ],
      "execution_count": null,
      "outputs": [
        {
          "output_type": "execute_result",
          "data": {
            "text/plain": [
              "array([0.37065108, 0.89813878])"
            ]
          },
          "metadata": {
            "tags": []
          },
          "execution_count": 16
        }
      ]
    },
    {
      "cell_type": "code",
      "metadata": {
        "id": "-mPocxtJD1YF",
        "outputId": "ec2aa610-0356-4cc9-e534-972b9aeea87a"
      },
      "source": [
        "np.random.rand(5,5)"
      ],
      "execution_count": null,
      "outputs": [
        {
          "output_type": "execute_result",
          "data": {
            "text/plain": [
              "array([[0.03932992, 0.80719137, 0.50145497, 0.68816102, 0.1216304 ],\n",
              "       [0.44966851, 0.92572848, 0.70802042, 0.10461719, 0.53768331],\n",
              "       [0.12201904, 0.5940684 , 0.89979774, 0.3424078 , 0.77421593],\n",
              "       [0.53191409, 0.0112285 , 0.3989947 , 0.8946967 , 0.2497392 ],\n",
              "       [0.5814085 , 0.37563686, 0.15266028, 0.42948309, 0.26434141]])"
            ]
          },
          "metadata": {
            "tags": []
          },
          "execution_count": 17
        }
      ]
    },
    {
      "cell_type": "markdown",
      "metadata": {
        "id": "m2SjRtUZD1YF"
      },
      "source": [
        "### randn\n",
        "\n",
        "Returns a sample (or samples) from the \"standard normal\" distribution [σ = 1]. Unlike **rand** which is uniform, values closer to zero are more likely to appear. [[reference](https://docs.scipy.org/doc/numpy-1.15.0/reference/generated/numpy.random.randn.html)]"
      ]
    },
    {
      "cell_type": "code",
      "metadata": {
        "id": "LUJicU_JD1YG",
        "outputId": "eb973118-a368-430a-c08e-ffabdd86784f"
      },
      "source": [
        "np.random.randn(2)"
      ],
      "execution_count": null,
      "outputs": [
        {
          "output_type": "execute_result",
          "data": {
            "text/plain": [
              "array([-0.36633217, -1.40298731])"
            ]
          },
          "metadata": {
            "tags": []
          },
          "execution_count": 18
        }
      ]
    },
    {
      "cell_type": "code",
      "metadata": {
        "id": "4-LfV1iyD1YG",
        "outputId": "345c3cb4-a0f1-4ceb-ca8c-5b773b0fb3c8"
      },
      "source": [
        "np.random.randn(5,5)"
      ],
      "execution_count": null,
      "outputs": [
        {
          "output_type": "execute_result",
          "data": {
            "text/plain": [
              "array([[-0.45241033,  1.07491082,  1.95698188,  0.40660223, -1.50445807],\n",
              "       [ 0.31434506, -2.16912609, -0.51237235,  0.78663583, -0.61824678],\n",
              "       [-0.17569928, -2.39139828,  0.30905559,  0.1616695 ,  0.33783857],\n",
              "       [-0.2206597 , -0.05768918,  0.74882883, -1.01241629, -1.81729966],\n",
              "       [-0.74891671,  0.88934796,  1.32275912, -0.71605188,  0.0450718 ]])"
            ]
          },
          "metadata": {
            "tags": []
          },
          "execution_count": 19
        }
      ]
    },
    {
      "cell_type": "markdown",
      "metadata": {
        "id": "fihUPiYXD1YG"
      },
      "source": [
        "### randint\n",
        "Returns random integers from `low` (inclusive) to `high` (exclusive).  [[reference](https://docs.scipy.org/doc/numpy-1.15.0/reference/generated/numpy.random.randint.html)]"
      ]
    },
    {
      "cell_type": "code",
      "metadata": {
        "id": "SrblB3slD1YH",
        "outputId": "b96afa18-29e0-4b18-f9ae-bf564450126d"
      },
      "source": [
        "np.random.randint(1,100)"
      ],
      "execution_count": null,
      "outputs": [
        {
          "output_type": "execute_result",
          "data": {
            "text/plain": [
              "61"
            ]
          },
          "metadata": {
            "tags": []
          },
          "execution_count": 20
        }
      ]
    },
    {
      "cell_type": "code",
      "metadata": {
        "id": "TvvXjk5gD1YH",
        "outputId": "f3756aa9-441e-4bfd-cd64-271d9fa436d7"
      },
      "source": [
        "np.random.randint(1,100,10)"
      ],
      "execution_count": null,
      "outputs": [
        {
          "output_type": "execute_result",
          "data": {
            "text/plain": [
              "array([39, 50, 72, 18, 27, 59, 15, 97, 11, 14])"
            ]
          },
          "metadata": {
            "tags": []
          },
          "execution_count": 21
        }
      ]
    },
    {
      "cell_type": "markdown",
      "metadata": {
        "id": "p536cMYHD1YH"
      },
      "source": [
        "### seed\n",
        "Can be used to set the random state, so that the same \"random\" results can be reproduced. [[reference](https://docs.scipy.org/doc/numpy-1.15.0/reference/generated/numpy.random.seed.html)]"
      ]
    },
    {
      "cell_type": "code",
      "metadata": {
        "id": "XtaXYv_HD1YI",
        "outputId": "a7888dfb-00d7-403f-c659-76aaa3043a52"
      },
      "source": [
        "np.random.seed(42)\n",
        "np.random.rand(4)"
      ],
      "execution_count": null,
      "outputs": [
        {
          "output_type": "execute_result",
          "data": {
            "text/plain": [
              "array([0.37454012, 0.95071431, 0.73199394, 0.59865848])"
            ]
          },
          "metadata": {
            "tags": []
          },
          "execution_count": 22
        }
      ]
    },
    {
      "cell_type": "code",
      "metadata": {
        "id": "RD8t9z9rD1YI",
        "outputId": "f84c9d02-9c8c-44d6-ae58-ac85905a15a8"
      },
      "source": [
        "np.random.seed(42)\n",
        "np.random.rand(4)"
      ],
      "execution_count": null,
      "outputs": [
        {
          "output_type": "execute_result",
          "data": {
            "text/plain": [
              "array([0.37454012, 0.95071431, 0.73199394, 0.59865848])"
            ]
          },
          "metadata": {
            "tags": []
          },
          "execution_count": 23
        }
      ]
    },
    {
      "cell_type": "markdown",
      "metadata": {
        "id": "7tUkkpKUD1YI"
      },
      "source": [
        "## Array Attributes and Methods\n",
        "\n",
        "Let's discuss some useful attributes and methods for an array:"
      ]
    },
    {
      "cell_type": "code",
      "metadata": {
        "collapsed": true,
        "id": "ZU0NReZWD1YI"
      },
      "source": [
        "arr = np.arange(25)\n",
        "ranarr = np.random.randint(0,50,10)"
      ],
      "execution_count": null,
      "outputs": []
    },
    {
      "cell_type": "code",
      "metadata": {
        "id": "tvjCxI0PD1YJ",
        "outputId": "bc4f4c25-eb12-45dd-8323-14c8b1451295"
      },
      "source": [
        "arr"
      ],
      "execution_count": null,
      "outputs": [
        {
          "output_type": "execute_result",
          "data": {
            "text/plain": [
              "array([ 0,  1,  2,  3,  4,  5,  6,  7,  8,  9, 10, 11, 12, 13, 14, 15, 16,\n",
              "       17, 18, 19, 20, 21, 22, 23, 24])"
            ]
          },
          "metadata": {
            "tags": []
          },
          "execution_count": 25
        }
      ]
    },
    {
      "cell_type": "code",
      "metadata": {
        "id": "CFX_mfEVD1YJ",
        "outputId": "d622970c-f430-44b6-e5c1-e54fc99819d8"
      },
      "source": [
        "ranarr"
      ],
      "execution_count": null,
      "outputs": [
        {
          "output_type": "execute_result",
          "data": {
            "text/plain": [
              "array([38, 18, 22, 10, 10, 23, 35, 39, 23,  2])"
            ]
          },
          "metadata": {
            "tags": []
          },
          "execution_count": 26
        }
      ]
    },
    {
      "cell_type": "markdown",
      "metadata": {
        "id": "6jFNT6vCD1YJ"
      },
      "source": [
        "## Reshape\n",
        "Returns an array containing the same data with a new shape. [[reference](https://docs.scipy.org/doc/numpy-1.15.0/reference/generated/numpy.reshape.html)]"
      ]
    },
    {
      "cell_type": "code",
      "metadata": {
        "id": "S393nu0BD1YK",
        "outputId": "9c5f491f-cff5-464c-d135-3fb340d1401d"
      },
      "source": [
        "arr.reshape(5,5)"
      ],
      "execution_count": null,
      "outputs": [
        {
          "output_type": "execute_result",
          "data": {
            "text/plain": [
              "array([[ 0,  1,  2,  3,  4],\n",
              "       [ 5,  6,  7,  8,  9],\n",
              "       [10, 11, 12, 13, 14],\n",
              "       [15, 16, 17, 18, 19],\n",
              "       [20, 21, 22, 23, 24]])"
            ]
          },
          "metadata": {
            "tags": []
          },
          "execution_count": 27
        }
      ]
    },
    {
      "cell_type": "markdown",
      "metadata": {
        "id": "Ymr9hzSND1YK"
      },
      "source": [
        "### max, min, argmax, argmin\n",
        "\n",
        "These are useful methods for finding max or min values. Or to find their index locations using argmin or argmax"
      ]
    },
    {
      "cell_type": "code",
      "metadata": {
        "id": "EZgbpw4ZD1YK",
        "outputId": "ec0bcd28-ce3c-4f61-8fe1-e389db745e01"
      },
      "source": [
        "ranarr"
      ],
      "execution_count": null,
      "outputs": [
        {
          "output_type": "execute_result",
          "data": {
            "text/plain": [
              "array([38, 18, 22, 10, 10, 23, 35, 39, 23,  2])"
            ]
          },
          "metadata": {
            "tags": []
          },
          "execution_count": 28
        }
      ]
    },
    {
      "cell_type": "code",
      "metadata": {
        "id": "rs-gjPAfD1YL",
        "outputId": "e9c65976-d1ae-4383-96cf-ead85d549e23"
      },
      "source": [
        "ranarr.max()"
      ],
      "execution_count": null,
      "outputs": [
        {
          "output_type": "execute_result",
          "data": {
            "text/plain": [
              "39"
            ]
          },
          "metadata": {
            "tags": []
          },
          "execution_count": 29
        }
      ]
    },
    {
      "cell_type": "code",
      "metadata": {
        "id": "ZEY9K9fND1YL",
        "outputId": "2bd8666a-b2cb-41a1-84e7-249d09e6cda8"
      },
      "source": [
        "ranarr.argmax()"
      ],
      "execution_count": null,
      "outputs": [
        {
          "output_type": "execute_result",
          "data": {
            "text/plain": [
              "7"
            ]
          },
          "metadata": {
            "tags": []
          },
          "execution_count": 30
        }
      ]
    },
    {
      "cell_type": "code",
      "metadata": {
        "id": "8I4opX1FD1YL",
        "outputId": "9401571c-ab27-46e7-9b1d-1304a07ff705"
      },
      "source": [
        "ranarr.min()"
      ],
      "execution_count": null,
      "outputs": [
        {
          "output_type": "execute_result",
          "data": {
            "text/plain": [
              "2"
            ]
          },
          "metadata": {
            "tags": []
          },
          "execution_count": 31
        }
      ]
    },
    {
      "cell_type": "code",
      "metadata": {
        "id": "jbAKNIE7D1YL",
        "outputId": "dca425fc-3885-4349-c3ce-8aefbc581354"
      },
      "source": [
        "ranarr.argmin()"
      ],
      "execution_count": null,
      "outputs": [
        {
          "output_type": "execute_result",
          "data": {
            "text/plain": [
              "9"
            ]
          },
          "metadata": {
            "tags": []
          },
          "execution_count": 32
        }
      ]
    },
    {
      "cell_type": "markdown",
      "metadata": {
        "id": "oaxxg6ZJD1YM"
      },
      "source": [
        "## Shape\n",
        "\n",
        "Shape is an attribute that arrays have (not a method):  [[reference](https://docs.scipy.org/doc/numpy-1.15.0/reference/generated/numpy.ndarray.shape.html)]"
      ]
    },
    {
      "cell_type": "code",
      "metadata": {
        "id": "IUDndzoWD1YM",
        "outputId": "1f32ae69-6378-4ef0-8af7-8338c299fabe"
      },
      "source": [
        "# Vector\n",
        "arr.shape"
      ],
      "execution_count": null,
      "outputs": [
        {
          "output_type": "execute_result",
          "data": {
            "text/plain": [
              "(25,)"
            ]
          },
          "metadata": {
            "tags": []
          },
          "execution_count": 33
        }
      ]
    },
    {
      "cell_type": "code",
      "metadata": {
        "id": "8GOKXMARD1YM",
        "outputId": "b748b371-76d2-45e5-fb0e-621d21b6ce26"
      },
      "source": [
        "# Notice the two sets of brackets\n",
        "arr.reshape(1,25)"
      ],
      "execution_count": null,
      "outputs": [
        {
          "output_type": "execute_result",
          "data": {
            "text/plain": [
              "array([[ 0,  1,  2,  3,  4,  5,  6,  7,  8,  9, 10, 11, 12, 13, 14, 15,\n",
              "        16, 17, 18, 19, 20, 21, 22, 23, 24]])"
            ]
          },
          "metadata": {
            "tags": []
          },
          "execution_count": 34
        }
      ]
    },
    {
      "cell_type": "code",
      "metadata": {
        "id": "DBgr0eieD1YN",
        "outputId": "08b5975e-056a-4bd0-d258-acbededa179c"
      },
      "source": [
        "arr.reshape(1,25).shape"
      ],
      "execution_count": null,
      "outputs": [
        {
          "output_type": "execute_result",
          "data": {
            "text/plain": [
              "(1, 25)"
            ]
          },
          "metadata": {
            "tags": []
          },
          "execution_count": 35
        }
      ]
    },
    {
      "cell_type": "code",
      "metadata": {
        "id": "H32d7NexD1YN",
        "outputId": "c26cea26-ffb4-4cd1-8a6c-c57519e25b5a"
      },
      "source": [
        "arr.reshape(25,1)"
      ],
      "execution_count": null,
      "outputs": [
        {
          "output_type": "execute_result",
          "data": {
            "text/plain": [
              "array([[ 0],\n",
              "       [ 1],\n",
              "       [ 2],\n",
              "       [ 3],\n",
              "       [ 4],\n",
              "       [ 5],\n",
              "       [ 6],\n",
              "       [ 7],\n",
              "       [ 8],\n",
              "       [ 9],\n",
              "       [10],\n",
              "       [11],\n",
              "       [12],\n",
              "       [13],\n",
              "       [14],\n",
              "       [15],\n",
              "       [16],\n",
              "       [17],\n",
              "       [18],\n",
              "       [19],\n",
              "       [20],\n",
              "       [21],\n",
              "       [22],\n",
              "       [23],\n",
              "       [24]])"
            ]
          },
          "metadata": {
            "tags": []
          },
          "execution_count": 36
        }
      ]
    },
    {
      "cell_type": "code",
      "metadata": {
        "id": "4oF3ME7LD1YN",
        "outputId": "5afd11f5-52bf-4600-9a18-e007dfd7fcf9"
      },
      "source": [
        "arr.reshape(25,1).shape"
      ],
      "execution_count": null,
      "outputs": [
        {
          "output_type": "execute_result",
          "data": {
            "text/plain": [
              "(25, 1)"
            ]
          },
          "metadata": {
            "tags": []
          },
          "execution_count": 37
        }
      ]
    },
    {
      "cell_type": "markdown",
      "metadata": {
        "id": "2Ss0TLfwD1YO"
      },
      "source": [
        "### dtype\n",
        "\n",
        "You can also grab the data type of the object in the array: [[reference](https://docs.scipy.org/doc/numpy-1.15.0/reference/generated/numpy.ndarray.dtype.html)]"
      ]
    },
    {
      "cell_type": "code",
      "metadata": {
        "id": "9wJtmkdKD1YO",
        "outputId": "1de27de4-a0be-4f26-8714-88bc5b17d503"
      },
      "source": [
        "arr.dtype"
      ],
      "execution_count": null,
      "outputs": [
        {
          "output_type": "execute_result",
          "data": {
            "text/plain": [
              "dtype('int32')"
            ]
          },
          "metadata": {
            "tags": []
          },
          "execution_count": 38
        }
      ]
    },
    {
      "cell_type": "code",
      "metadata": {
        "id": "jUdf0HCZD1YO",
        "outputId": "d41270d5-ed69-4a3f-e2c0-2f7e89b41e31"
      },
      "source": [
        "arr2 = np.array([1.2, 3.4, 5.6])\n",
        "arr2.dtype"
      ],
      "execution_count": null,
      "outputs": [
        {
          "output_type": "execute_result",
          "data": {
            "text/plain": [
              "dtype('float64')"
            ]
          },
          "metadata": {
            "tags": []
          },
          "execution_count": 39
        }
      ]
    },
    {
      "cell_type": "markdown",
      "metadata": {
        "id": "1BDcJ_HZD1YO"
      },
      "source": [
        "# Great Job!"
      ]
    }
  ]
}